{
 "cells": [
  {
   "cell_type": "markdown",
   "metadata": {},
   "source": [
    "# Times Buchi Automaton To Region Automaton"
   ]
  },
  {
   "cell_type": "markdown",
   "metadata": {},
   "source": [
    "### Definitions for timed transition table (TTA) $\\mathscr{A}$: \n",
    "\n",
    "* $\\Sigma$ -  alphabet\n",
    "* $S$ - set of states\n",
    "* $S_0 \\subseteq S$ - set of start states\n",
    "* $C$ - set of clock\n",
    "* $E \\subseteq S \\times S \\times \\Sigma \\times 2^C \\times \\Phi (C)$ - set of transitions.\n",
    "\n",
    "An edge $<s,s',a,\\lambda,\\delta> $ represents a transition from state $s$ to state $s'$ on input symbol $a$.\n",
    "\n",
    "the set $\\lambda \\subseteq C$ are the clock to be reset with this transition, and $\\lambda$ is a clock constraint over $C$ \n",
    "\n",
    "Example: $<s_0, s_1, a, (x,y) , (x<10,z>2) >$ - transition from $s_0$ to $s_1$ on char $a$ if clock x under 10 and clock z above 2, and clock x and y are reset on this transition"
   ]
  },
  {
   "cell_type": "markdown",
   "metadata": {},
   "source": [
    "## Timed buchi automaton (TBA) \n",
    "$< \\Sigma$ ,S ,S_0 ,C, E ,F > $ wehere $< \\Sigma$ ,S ,S_0 ,C, E>$ is $\\mathscr{A}$ and $F \\subseteq S$ are the accepting states"
   ]
  },
  {
   "cell_type": "code",
   "execution_count": null,
   "metadata": {},
   "outputs": [],
   "source": [
    "class tta:\n",
    "    alfbet=[]\n",
    "    states=[]\n",
    "    start=[]\n",
    "    clks=[]\n",
    "    edges=[]\n",
    "    def __init__(self,alfbet,states,start,clks,edges):\n",
    "        pass\n",
    "\n",
    "    \n",
    "    \n"
   ]
  },
  {
   "cell_type": "markdown",
   "metadata": {},
   "source": [
    "### Definition for region automaton of times transition table  $R(\\mathscr{A})$:\n",
    "* states of $R(\\mathscr{A})$ of the form $(s,\\alpha)$ where $s \\in S$ and is a clock region\n",
    "* initial states are of the form $(s_0, [v_0])$ where $ss_0 \\in S_0$ and $v_0(x)=0$ for all $x \\in C$\n",
    "* $R(\\mathscr{A})$ has an edge $<(s,\\alpha),(s',\\alpha'),a>$ iff there is an edge $<s,s',a,\\lambda,\\delta>\\in E$ and a region $\\alpha''$ such that\n",
    "    * $\\alpha''$ is a time-successor of $\\alpha$\n",
    "    * $\\alpha''$ satisfies $\\delta$\n",
    "    * $\\alpha=[\\lambda \\mapsto 0] \\alpha''$ (i dont know what it means...)\n",
    "\n",
    "\n",
    "\n"
   ]
  }
 ],
 "metadata": {
  "language_info": {
   "name": "python"
  },
  "orig_nbformat": 4
 },
 "nbformat": 4,
 "nbformat_minor": 2
}
